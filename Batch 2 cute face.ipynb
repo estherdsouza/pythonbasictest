{
 "cells": [
  {
   "cell_type": "code",
   "execution_count": 2,
   "metadata": {},
   "outputs": [],
   "source": [
    "#comment"
   ]
  },
  {
   "cell_type": "code",
   "execution_count": 3,
   "metadata": {},
   "outputs": [
    {
     "name": "stdout",
     "output_type": "stream",
     "text": [
      "this is a string\n"
     ]
    },
    {
     "data": {
      "text/plain": [
       "str"
      ]
     },
     "execution_count": 3,
     "metadata": {},
     "output_type": "execute_result"
    }
   ],
   "source": [
    "#strings\n",
    "name = \"this is a string\"\n",
    "print(name)\n",
    "type(name)"
   ]
  },
  {
   "cell_type": "code",
   "execution_count": 16,
   "metadata": {},
   "outputs": [
    {
     "name": "stdout",
     "output_type": "stream",
     "text": [
      "1.5\n"
     ]
    },
    {
     "data": {
      "text/plain": [
       "float"
      ]
     },
     "execution_count": 16,
     "metadata": {},
     "output_type": "execute_result"
    }
   ],
   "source": [
    "#float\n",
    "name = 1.5\n",
    "print(name)\n",
    "type(name)"
   ]
  },
  {
   "cell_type": "markdown",
   "metadata": {},
   "source": [
    "## LOOPS\n",
    "#### If loops"
   ]
  },
  {
   "cell_type": "code",
   "execution_count": 12,
   "metadata": {},
   "outputs": [
    {
     "name": "stdout",
     "output_type": "stream",
     "text": [
      "simply a sentence that says i is less than 3. Application - grayed out type in username and pw boxes\n",
      "simply a sentence that says i is also less than 2\n",
      "end of if loop\n"
     ]
    }
   ],
   "source": [
    "#if\n",
    "\n",
    "i = 1\n",
    "if i<3:\n",
    "    print(\"simply a sentence that says i is less than 3. Application - grayed out type in username and pw boxes\")\n",
    "    if i<2:\n",
    "        print(\"simply a sentence that says i is also less than 2\")\n",
    "print(\"end of if loop\")"
   ]
  },
  {
   "cell_type": "markdown",
   "metadata": {},
   "source": [
    "#### If-else loops"
   ]
  },
  {
   "cell_type": "code",
   "execution_count": 19,
   "metadata": {},
   "outputs": [
    {
     "name": "stdout",
     "output_type": "stream",
     "text": [
      "i is greater than 1\n"
     ]
    }
   ],
   "source": [
    "#ifelse\n",
    "i=3\n",
    "if i < 1:\n",
    "    print(\"i is less than 1\")\n",
    "else:\n",
    "    print(\"i is greater than 1\")"
   ]
  },
  {
   "cell_type": "code",
   "execution_count": 20,
   "metadata": {},
   "outputs": [
    {
     "name": "stdout",
     "output_type": "stream",
     "text": [
      "i is less than 1\n"
     ]
    }
   ],
   "source": [
    "#ifelse\n",
    "i=-5\n",
    "if i < 1:\n",
    "    print(\"i is less than 1\")\n",
    "else:\n",
    "    print(\"i is greater than 1\")"
   ]
  },
  {
   "cell_type": "markdown",
   "metadata": {},
   "source": [
    "#### If-else-if-else loop"
   ]
  },
  {
   "cell_type": "code",
   "execution_count": 21,
   "metadata": {},
   "outputs": [
    {
     "name": "stdout",
     "output_type": "stream",
     "text": [
      "i is less than 2\n"
     ]
    }
   ],
   "source": [
    "#ifelseifelse\n",
    "\n",
    "i=1.5\n",
    "if i < 1:\n",
    "    print(\"i is less than 1\")\n",
    "elif i < 2:\n",
    "    print(\"i is less than 2\")\n",
    "else:\n",
    "    print(\"i is greater than 2\")"
   ]
  },
  {
   "cell_type": "code",
   "execution_count": 22,
   "metadata": {},
   "outputs": [
    {
     "name": "stdout",
     "output_type": "stream",
     "text": [
      "use pass code 19401\n"
     ]
    }
   ],
   "source": [
    "#ifelseifelse\n",
    "#you can add as many elif statements as you want\n",
    "\n",
    "credit=1 #1,2,3\n",
    "if credit == 1:\n",
    "    print(\"use pass code 19401\")\n",
    "elif credit == 2:\n",
    "    print(\"use pass code 716\")\n",
    "else:\n",
    "    print(\"use pass code 2\")"
   ]
  },
  {
   "cell_type": "markdown",
   "metadata": {},
   "source": [
    "#### For loop"
   ]
  },
  {
   "cell_type": "code",
   "execution_count": 24,
   "metadata": {},
   "outputs": [
    {
     "name": "stdout",
     "output_type": "stream",
     "text": [
      "0\n",
      "1\n",
      "2\n",
      "3\n",
      "4\n",
      "5\n"
     ]
    }
   ],
   "source": [
    "#Forloop\n",
    "for i in range(6):\n",
    "    print(i)"
   ]
  },
  {
   "cell_type": "code",
   "execution_count": 31,
   "metadata": {},
   "outputs": [
    {
     "name": "stdout",
     "output_type": "stream",
     "text": [
      "0\n",
      "1\n",
      "2\n",
      "3\n",
      "4\n",
      "5\n"
     ]
    }
   ],
   "source": [
    "#Forloop is useful when you want to curtail \n",
    "#the amount of code used. Otherwise, in the \n",
    "#above example, you would execute it line by line like so\n",
    "\n",
    "print(0)\n",
    "print(1)\n",
    "print(2)\n",
    "print(3)\n",
    "print(4)\n",
    "print(5)"
   ]
  },
  {
   "cell_type": "markdown",
   "metadata": {},
   "source": [
    "#### Functions"
   ]
  },
  {
   "cell_type": "code",
   "execution_count": 32,
   "metadata": {},
   "outputs": [],
   "source": [
    "#Functions\n",
    "def addition (x,y):\n",
    "    z = x+y\n",
    "    z = 5+z\n",
    "    return z"
   ]
  },
  {
   "cell_type": "code",
   "execution_count": 33,
   "metadata": {},
   "outputs": [
    {
     "name": "stdout",
     "output_type": "stream",
     "text": [
      "20\n"
     ]
    }
   ],
   "source": [
    "sum_1 = addition(7,8)\n",
    "print(sum_1)"
   ]
  },
  {
   "cell_type": "code",
   "execution_count": 34,
   "metadata": {},
   "outputs": [
    {
     "name": "stdout",
     "output_type": "stream",
     "text": [
      "12\n"
     ]
    }
   ],
   "source": [
    "print(addition(3,4))"
   ]
  },
  {
   "cell_type": "code",
   "execution_count": 38,
   "metadata": {},
   "outputs": [
    {
     "name": "stdout",
     "output_type": "stream",
     "text": [
      "18\n"
     ]
    }
   ],
   "source": [
    "def subtraxhinlolz (a,b):\n",
    "    z = a-b\n",
    "    z = 20-z\n",
    "    return z\n",
    "\n",
    "print(subtraxhinlolz(4,2))"
   ]
  },
  {
   "cell_type": "code",
   "execution_count": 39,
   "metadata": {},
   "outputs": [],
   "source": [
    "from selenium import webdriver"
   ]
  },
  {
   "cell_type": "code",
   "execution_count": 4,
   "metadata": {},
   "outputs": [],
   "source": [
    "#git\n",
    "#git add, git commit, git push - to make code available in the cloud\n",
    "#git add nameoffile.ipynb\n",
    "#git commit -m just describes the commit action by adding a \"message\"\n",
    "#git push - authentication required\n",
    "#git pull - to pull the changes that someone else made to a repo\n",
    "#to clone a file - git clone then copy the file URL from the git repo you just made, by clicking the clone/download link"
   ]
  },
  {
   "cell_type": "code",
   "execution_count": null,
   "metadata": {},
   "outputs": [],
   "source": []
  }
 ],
 "metadata": {
  "kernelspec": {
   "display_name": "Python 3",
   "language": "python",
   "name": "python3"
  },
  "language_info": {
   "codemirror_mode": {
    "name": "ipython",
    "version": 3
   },
   "file_extension": ".py",
   "mimetype": "text/x-python",
   "name": "python",
   "nbconvert_exporter": "python",
   "pygments_lexer": "ipython3",
   "version": "3.7.3"
  }
 },
 "nbformat": 4,
 "nbformat_minor": 2
}
